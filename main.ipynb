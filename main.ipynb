{
 "cells": [
  {
   "cell_type": "code",
   "execution_count": 1,
   "outputs": [],
   "source": [
    "import pandas as pd\n",
    "import numpy as np\n",
    "from geopy.geocoders import Nominatim\n",
    "from geopy.point import Point"
   ],
   "metadata": {
    "collapsed": false
   }
  },
  {
   "cell_type": "code",
   "execution_count": 2,
   "outputs": [],
   "source": [
    "geolocator = Nominatim(user_agent=\"ottableaudeveloper2@gmail.com\")"
   ],
   "metadata": {
    "collapsed": false
   }
  },
  {
   "cell_type": "code",
   "execution_count": 3,
   "outputs": [],
   "source": [
    "df = pd.read_csv('data/clean.csv')"
   ],
   "metadata": {
    "collapsed": false
   }
  },
  {
   "cell_type": "code",
   "execution_count": 4,
   "outputs": [],
   "source": [
    "df_copy = df.head(10)"
   ],
   "metadata": {
    "collapsed": false
   }
  },
  {
   "cell_type": "code",
   "execution_count": 5,
   "outputs": [],
   "source": [
    "# df_grouped = df.groupby(['street_name', 'city', 'state'])['price'].count()\n",
    "# df_grouped"
   ],
   "metadata": {
    "collapsed": false
   }
  },
  {
   "cell_type": "code",
   "execution_count": 6,
   "outputs": [
    {
     "data": {
      "text/plain": "                 street_name    city state   latitude  longitude   price  \\\n0                   Vista Dr  Juneau    AK  58.285800 -134.41408  450000   \n1                   David St  Juneau    AK  58.286762 -134.41832  220000   \n2               Riverside Dr  Juneau    AK  58.397495 -134.58340  329900   \n3                    John St  Juneau    AK  58.288048 -134.42033  229000   \n4                Glacier Hwy  Juneau    AK  58.384464 -134.65596  279900   \n5  Mendenhall Loop Rd APT 35  Juneau    AK  58.380880 -134.57686  205000   \n6                  Cinema Dr  Juneau    AK  58.381130 -134.58157  320000   \n7         Mendenhall Loop Rd  Juneau    AK  58.380880 -134.57686  205000   \n8                  Sunset Dr  Juneau    AK  58.369877 -134.59240  460000   \n9              4 Douglas Hwy  Juneau    AK  58.293150 -134.42781  220000   \n\n   bedroom_number  bathroom_number  square_meter population  \n0               3                2           123     32,099  \n1               1                1            70     32,099  \n2               2                2           113     32,099  \n3               2                2           108     32,099  \n4               2                2            72     32,099  \n5               2                2            94     32,099  \n6               2                2           111     32,099  \n7               2                2            94     32,099  \n8               3                3           140     32,099  \n9               2                2            79     32,099  ",
      "text/html": "<div>\n<style scoped>\n    .dataframe tbody tr th:only-of-type {\n        vertical-align: middle;\n    }\n\n    .dataframe tbody tr th {\n        vertical-align: top;\n    }\n\n    .dataframe thead th {\n        text-align: right;\n    }\n</style>\n<table border=\"1\" class=\"dataframe\">\n  <thead>\n    <tr style=\"text-align: right;\">\n      <th></th>\n      <th>street_name</th>\n      <th>city</th>\n      <th>state</th>\n      <th>latitude</th>\n      <th>longitude</th>\n      <th>price</th>\n      <th>bedroom_number</th>\n      <th>bathroom_number</th>\n      <th>square_meter</th>\n      <th>population</th>\n    </tr>\n  </thead>\n  <tbody>\n    <tr>\n      <th>0</th>\n      <td>Vista Dr</td>\n      <td>Juneau</td>\n      <td>AK</td>\n      <td>58.285800</td>\n      <td>-134.41408</td>\n      <td>450000</td>\n      <td>3</td>\n      <td>2</td>\n      <td>123</td>\n      <td>32,099</td>\n    </tr>\n    <tr>\n      <th>1</th>\n      <td>David St</td>\n      <td>Juneau</td>\n      <td>AK</td>\n      <td>58.286762</td>\n      <td>-134.41832</td>\n      <td>220000</td>\n      <td>1</td>\n      <td>1</td>\n      <td>70</td>\n      <td>32,099</td>\n    </tr>\n    <tr>\n      <th>2</th>\n      <td>Riverside Dr</td>\n      <td>Juneau</td>\n      <td>AK</td>\n      <td>58.397495</td>\n      <td>-134.58340</td>\n      <td>329900</td>\n      <td>2</td>\n      <td>2</td>\n      <td>113</td>\n      <td>32,099</td>\n    </tr>\n    <tr>\n      <th>3</th>\n      <td>John St</td>\n      <td>Juneau</td>\n      <td>AK</td>\n      <td>58.288048</td>\n      <td>-134.42033</td>\n      <td>229000</td>\n      <td>2</td>\n      <td>2</td>\n      <td>108</td>\n      <td>32,099</td>\n    </tr>\n    <tr>\n      <th>4</th>\n      <td>Glacier Hwy</td>\n      <td>Juneau</td>\n      <td>AK</td>\n      <td>58.384464</td>\n      <td>-134.65596</td>\n      <td>279900</td>\n      <td>2</td>\n      <td>2</td>\n      <td>72</td>\n      <td>32,099</td>\n    </tr>\n    <tr>\n      <th>5</th>\n      <td>Mendenhall Loop Rd APT 35</td>\n      <td>Juneau</td>\n      <td>AK</td>\n      <td>58.380880</td>\n      <td>-134.57686</td>\n      <td>205000</td>\n      <td>2</td>\n      <td>2</td>\n      <td>94</td>\n      <td>32,099</td>\n    </tr>\n    <tr>\n      <th>6</th>\n      <td>Cinema Dr</td>\n      <td>Juneau</td>\n      <td>AK</td>\n      <td>58.381130</td>\n      <td>-134.58157</td>\n      <td>320000</td>\n      <td>2</td>\n      <td>2</td>\n      <td>111</td>\n      <td>32,099</td>\n    </tr>\n    <tr>\n      <th>7</th>\n      <td>Mendenhall Loop Rd</td>\n      <td>Juneau</td>\n      <td>AK</td>\n      <td>58.380880</td>\n      <td>-134.57686</td>\n      <td>205000</td>\n      <td>2</td>\n      <td>2</td>\n      <td>94</td>\n      <td>32,099</td>\n    </tr>\n    <tr>\n      <th>8</th>\n      <td>Sunset Dr</td>\n      <td>Juneau</td>\n      <td>AK</td>\n      <td>58.369877</td>\n      <td>-134.59240</td>\n      <td>460000</td>\n      <td>3</td>\n      <td>3</td>\n      <td>140</td>\n      <td>32,099</td>\n    </tr>\n    <tr>\n      <th>9</th>\n      <td>4 Douglas Hwy</td>\n      <td>Juneau</td>\n      <td>AK</td>\n      <td>58.293150</td>\n      <td>-134.42781</td>\n      <td>220000</td>\n      <td>2</td>\n      <td>2</td>\n      <td>79</td>\n      <td>32,099</td>\n    </tr>\n  </tbody>\n</table>\n</div>"
     },
     "execution_count": 6,
     "metadata": {},
     "output_type": "execute_result"
    }
   ],
   "source": [
    "df_copy"
   ],
   "metadata": {
    "collapsed": false
   }
  },
  {
   "cell_type": "code",
   "execution_count": 7,
   "outputs": [],
   "source": [
    "# df['coordinate'] = df['latitude'].astype(str) + ', ' + df['longitude'].astype(str)"
   ],
   "metadata": {
    "collapsed": false
   }
  },
  {
   "cell_type": "code",
   "execution_count": 8,
   "outputs": [],
   "source": [
    "def reverse_geocoding(lat, lon):\n",
    "    location = geolocator.reverse(Point(lat, lon))\n",
    "    return location.address.split(',')[1]"
   ],
   "metadata": {
    "collapsed": false
   }
  },
  {
   "cell_type": "code",
   "execution_count": null,
   "outputs": [],
   "source": [
    "df['address'] = np.vectorize(reverse_geocoding)(df['latitude'], df['longitude'])"
   ],
   "metadata": {
    "collapsed": false,
    "pycharm": {
     "is_executing": true
    }
   }
  },
  {
   "cell_type": "code",
   "execution_count": null,
   "outputs": [],
   "source": [
    "df"
   ],
   "metadata": {
    "collapsed": false,
    "pycharm": {
     "is_executing": true
    }
   }
  },
  {
   "cell_type": "code",
   "execution_count": null,
   "outputs": [],
   "source": [
    "# loc = geolocator.reverse('58.380880, -134.59240')"
   ],
   "metadata": {
    "collapsed": false,
    "pycharm": {
     "is_executing": true
    }
   }
  },
  {
   "cell_type": "code",
   "execution_count": null,
   "outputs": [],
   "source": [
    "# print(loc.address)"
   ],
   "metadata": {
    "collapsed": false,
    "pycharm": {
     "is_executing": true
    }
   }
  },
  {
   "cell_type": "code",
   "execution_count": null,
   "outputs": [],
   "source": [],
   "metadata": {
    "collapsed": false,
    "pycharm": {
     "is_executing": true
    }
   }
  }
 ],
 "metadata": {
  "kernelspec": {
   "display_name": "Python 3",
   "language": "python",
   "name": "python3"
  },
  "language_info": {
   "codemirror_mode": {
    "name": "ipython",
    "version": 2
   },
   "file_extension": ".py",
   "mimetype": "text/x-python",
   "name": "python",
   "nbconvert_exporter": "python",
   "pygments_lexer": "ipython2",
   "version": "2.7.6"
  }
 },
 "nbformat": 4,
 "nbformat_minor": 0
}
