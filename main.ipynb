{
 "cells": [
  {
   "cell_type": "code",
   "execution_count": 1,
   "outputs": [],
   "source": [
    "import pandas as pd"
   ],
   "metadata": {
    "collapsed": false,
    "pycharm": {
     "name": "#%%\n"
    }
   }
  },
  {
   "cell_type": "code",
   "execution_count": 2,
   "outputs": [],
   "source": [
    "df = pd.read_csv('data/clean.csv')"
   ],
   "metadata": {
    "collapsed": false,
    "pycharm": {
     "name": "#%%\n"
    }
   }
  },
  {
   "cell_type": "code",
   "execution_count": 3,
   "outputs": [
    {
     "data": {
      "text/plain": "                street_name          city state   latitude   longitude  \\\n0                  Vista Dr        Juneau    AK  58.285800 -134.414080   \n1                  David St        Juneau    AK  58.286762 -134.418320   \n2              Riverside Dr        Juneau    AK  58.397495 -134.583400   \n3                   John St        Juneau    AK  58.288048 -134.420330   \n4               Glacier Hwy        Juneau    AK  58.384464 -134.655960   \n...                     ...           ...   ...        ...         ...   \n26434  Rodenburg Rd APT 205       Roselle    IL  41.968853  -88.107346   \n26435          Autumn Dr #1       Beecher    IL  41.345333  -87.599396   \n26436    River St UNIT 3202        Lemont    IL  41.676180  -88.000520   \n26437       Main St APT 312  West Chicago    IL  41.882423  -88.197480   \n26438   Wildflower Rd #1143      Matteson    IL  41.496586  -87.697160   \n\n        price  bedroom_number  bathroom_number  square_meter population  \n0      450000               3                2           123     32,099  \n1      220000               1                1            70     32,099  \n2      329900               2                2           113     32,099  \n3      229000               2                2           108     32,099  \n4      279900               2                2            72     32,099  \n...       ...             ...              ...           ...        ...  \n26434  100000               1                1            74     22,744  \n26435  248000               2                2           138      9,168  \n26436  180000               1                1            89     17,131  \n26437  172500               2                2           106     26,998  \n26438  180000               2                2           130     19,374  \n\n[26439 rows x 10 columns]",
      "text/html": "<div>\n<style scoped>\n    .dataframe tbody tr th:only-of-type {\n        vertical-align: middle;\n    }\n\n    .dataframe tbody tr th {\n        vertical-align: top;\n    }\n\n    .dataframe thead th {\n        text-align: right;\n    }\n</style>\n<table border=\"1\" class=\"dataframe\">\n  <thead>\n    <tr style=\"text-align: right;\">\n      <th></th>\n      <th>street_name</th>\n      <th>city</th>\n      <th>state</th>\n      <th>latitude</th>\n      <th>longitude</th>\n      <th>price</th>\n      <th>bedroom_number</th>\n      <th>bathroom_number</th>\n      <th>square_meter</th>\n      <th>population</th>\n    </tr>\n  </thead>\n  <tbody>\n    <tr>\n      <th>0</th>\n      <td>Vista Dr</td>\n      <td>Juneau</td>\n      <td>AK</td>\n      <td>58.285800</td>\n      <td>-134.414080</td>\n      <td>450000</td>\n      <td>3</td>\n      <td>2</td>\n      <td>123</td>\n      <td>32,099</td>\n    </tr>\n    <tr>\n      <th>1</th>\n      <td>David St</td>\n      <td>Juneau</td>\n      <td>AK</td>\n      <td>58.286762</td>\n      <td>-134.418320</td>\n      <td>220000</td>\n      <td>1</td>\n      <td>1</td>\n      <td>70</td>\n      <td>32,099</td>\n    </tr>\n    <tr>\n      <th>2</th>\n      <td>Riverside Dr</td>\n      <td>Juneau</td>\n      <td>AK</td>\n      <td>58.397495</td>\n      <td>-134.583400</td>\n      <td>329900</td>\n      <td>2</td>\n      <td>2</td>\n      <td>113</td>\n      <td>32,099</td>\n    </tr>\n    <tr>\n      <th>3</th>\n      <td>John St</td>\n      <td>Juneau</td>\n      <td>AK</td>\n      <td>58.288048</td>\n      <td>-134.420330</td>\n      <td>229000</td>\n      <td>2</td>\n      <td>2</td>\n      <td>108</td>\n      <td>32,099</td>\n    </tr>\n    <tr>\n      <th>4</th>\n      <td>Glacier Hwy</td>\n      <td>Juneau</td>\n      <td>AK</td>\n      <td>58.384464</td>\n      <td>-134.655960</td>\n      <td>279900</td>\n      <td>2</td>\n      <td>2</td>\n      <td>72</td>\n      <td>32,099</td>\n    </tr>\n    <tr>\n      <th>...</th>\n      <td>...</td>\n      <td>...</td>\n      <td>...</td>\n      <td>...</td>\n      <td>...</td>\n      <td>...</td>\n      <td>...</td>\n      <td>...</td>\n      <td>...</td>\n      <td>...</td>\n    </tr>\n    <tr>\n      <th>26434</th>\n      <td>Rodenburg Rd APT 205</td>\n      <td>Roselle</td>\n      <td>IL</td>\n      <td>41.968853</td>\n      <td>-88.107346</td>\n      <td>100000</td>\n      <td>1</td>\n      <td>1</td>\n      <td>74</td>\n      <td>22,744</td>\n    </tr>\n    <tr>\n      <th>26435</th>\n      <td>Autumn Dr #1</td>\n      <td>Beecher</td>\n      <td>IL</td>\n      <td>41.345333</td>\n      <td>-87.599396</td>\n      <td>248000</td>\n      <td>2</td>\n      <td>2</td>\n      <td>138</td>\n      <td>9,168</td>\n    </tr>\n    <tr>\n      <th>26436</th>\n      <td>River St UNIT 3202</td>\n      <td>Lemont</td>\n      <td>IL</td>\n      <td>41.676180</td>\n      <td>-88.000520</td>\n      <td>180000</td>\n      <td>1</td>\n      <td>1</td>\n      <td>89</td>\n      <td>17,131</td>\n    </tr>\n    <tr>\n      <th>26437</th>\n      <td>Main St APT 312</td>\n      <td>West Chicago</td>\n      <td>IL</td>\n      <td>41.882423</td>\n      <td>-88.197480</td>\n      <td>172500</td>\n      <td>2</td>\n      <td>2</td>\n      <td>106</td>\n      <td>26,998</td>\n    </tr>\n    <tr>\n      <th>26438</th>\n      <td>Wildflower Rd #1143</td>\n      <td>Matteson</td>\n      <td>IL</td>\n      <td>41.496586</td>\n      <td>-87.697160</td>\n      <td>180000</td>\n      <td>2</td>\n      <td>2</td>\n      <td>130</td>\n      <td>19,374</td>\n    </tr>\n  </tbody>\n</table>\n<p>26439 rows × 10 columns</p>\n</div>"
     },
     "execution_count": 3,
     "metadata": {},
     "output_type": "execute_result"
    }
   ],
   "source": [
    "df"
   ],
   "metadata": {
    "collapsed": false,
    "pycharm": {
     "name": "#%%\n"
    }
   }
  },
  {
   "cell_type": "code",
   "execution_count": 3,
   "outputs": [],
   "source": [],
   "metadata": {
    "collapsed": false,
    "pycharm": {
     "name": "#%%\n"
    }
   }
  }
 ],
 "metadata": {
  "kernelspec": {
   "display_name": "Python 3",
   "language": "python",
   "name": "python3"
  },
  "language_info": {
   "codemirror_mode": {
    "name": "ipython",
    "version": 2
   },
   "file_extension": ".py",
   "mimetype": "text/x-python",
   "name": "python",
   "nbconvert_exporter": "python",
   "pygments_lexer": "ipython2",
   "version": "2.7.6"
  }
 },
 "nbformat": 4,
 "nbformat_minor": 0
}